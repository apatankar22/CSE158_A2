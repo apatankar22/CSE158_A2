{
 "cells": [
  {
   "cell_type": "code",
   "execution_count": 1,
   "metadata": {},
   "outputs": [],
   "source": [
    "# CSE 158 Assignment 2"
   ]
  },
  {
   "cell_type": "code",
   "execution_count": 2,
   "metadata": {},
   "outputs": [],
   "source": [
    "import pandas as pd\n",
    "import numpy as np\n",
    "import matplotlib.pyplot as plt\n",
    "import seaborn as sns\n",
    "from sklearn.model_selection import train_test_split\n",
    "from sklearn.linear_model import LinearRegression\n",
    "from sklearn import preprocessing\n",
    "from sklearn.metrics import mean_squared_error\n",
    "from sklearn.metrics import r2_score\n",
    "\n",
    "from sklearn.tree import DecisionTreeRegressor\n",
    "from sklearn.ensemble import ExtraTreesRegressor"
   ]
  },
  {
   "cell_type": "markdown",
   "metadata": {},
   "source": [
    "## Read Data"
   ]
  },
  {
   "cell_type": "code",
   "execution_count": 3,
   "metadata": {},
   "outputs": [
    {
     "data": {
      "text/html": [
       "<div>\n",
       "<style scoped>\n",
       "    .dataframe tbody tr th:only-of-type {\n",
       "        vertical-align: middle;\n",
       "    }\n",
       "\n",
       "    .dataframe tbody tr th {\n",
       "        vertical-align: top;\n",
       "    }\n",
       "\n",
       "    .dataframe thead th {\n",
       "        text-align: right;\n",
       "    }\n",
       "</style>\n",
       "<table border=\"1\" class=\"dataframe\">\n",
       "  <thead>\n",
       "    <tr style=\"text-align: right;\">\n",
       "      <th></th>\n",
       "      <th>id</th>\n",
       "      <th>url</th>\n",
       "      <th>region</th>\n",
       "      <th>region_url</th>\n",
       "      <th>price</th>\n",
       "      <th>year</th>\n",
       "      <th>manufacturer</th>\n",
       "      <th>model</th>\n",
       "      <th>condition</th>\n",
       "      <th>cylinders</th>\n",
       "      <th>...</th>\n",
       "      <th>size</th>\n",
       "      <th>type</th>\n",
       "      <th>paint_color</th>\n",
       "      <th>image_url</th>\n",
       "      <th>description</th>\n",
       "      <th>county</th>\n",
       "      <th>state</th>\n",
       "      <th>lat</th>\n",
       "      <th>long</th>\n",
       "      <th>posting_date</th>\n",
       "    </tr>\n",
       "  </thead>\n",
       "  <tbody>\n",
       "    <tr>\n",
       "      <th>0</th>\n",
       "      <td>7222695916</td>\n",
       "      <td>https://prescott.craigslist.org/cto/d/prescott...</td>\n",
       "      <td>prescott</td>\n",
       "      <td>https://prescott.craigslist.org</td>\n",
       "      <td>6000</td>\n",
       "      <td>NaN</td>\n",
       "      <td>NaN</td>\n",
       "      <td>NaN</td>\n",
       "      <td>NaN</td>\n",
       "      <td>NaN</td>\n",
       "      <td>...</td>\n",
       "      <td>NaN</td>\n",
       "      <td>NaN</td>\n",
       "      <td>NaN</td>\n",
       "      <td>NaN</td>\n",
       "      <td>NaN</td>\n",
       "      <td>NaN</td>\n",
       "      <td>az</td>\n",
       "      <td>NaN</td>\n",
       "      <td>NaN</td>\n",
       "      <td>NaN</td>\n",
       "    </tr>\n",
       "    <tr>\n",
       "      <th>1</th>\n",
       "      <td>7218891961</td>\n",
       "      <td>https://fayar.craigslist.org/ctd/d/bentonville...</td>\n",
       "      <td>fayetteville</td>\n",
       "      <td>https://fayar.craigslist.org</td>\n",
       "      <td>11900</td>\n",
       "      <td>NaN</td>\n",
       "      <td>NaN</td>\n",
       "      <td>NaN</td>\n",
       "      <td>NaN</td>\n",
       "      <td>NaN</td>\n",
       "      <td>...</td>\n",
       "      <td>NaN</td>\n",
       "      <td>NaN</td>\n",
       "      <td>NaN</td>\n",
       "      <td>NaN</td>\n",
       "      <td>NaN</td>\n",
       "      <td>NaN</td>\n",
       "      <td>ar</td>\n",
       "      <td>NaN</td>\n",
       "      <td>NaN</td>\n",
       "      <td>NaN</td>\n",
       "    </tr>\n",
       "    <tr>\n",
       "      <th>2</th>\n",
       "      <td>7221797935</td>\n",
       "      <td>https://keys.craigslist.org/cto/d/summerland-k...</td>\n",
       "      <td>florida keys</td>\n",
       "      <td>https://keys.craigslist.org</td>\n",
       "      <td>21000</td>\n",
       "      <td>NaN</td>\n",
       "      <td>NaN</td>\n",
       "      <td>NaN</td>\n",
       "      <td>NaN</td>\n",
       "      <td>NaN</td>\n",
       "      <td>...</td>\n",
       "      <td>NaN</td>\n",
       "      <td>NaN</td>\n",
       "      <td>NaN</td>\n",
       "      <td>NaN</td>\n",
       "      <td>NaN</td>\n",
       "      <td>NaN</td>\n",
       "      <td>fl</td>\n",
       "      <td>NaN</td>\n",
       "      <td>NaN</td>\n",
       "      <td>NaN</td>\n",
       "    </tr>\n",
       "    <tr>\n",
       "      <th>3</th>\n",
       "      <td>7222270760</td>\n",
       "      <td>https://worcester.craigslist.org/cto/d/west-br...</td>\n",
       "      <td>worcester / central MA</td>\n",
       "      <td>https://worcester.craigslist.org</td>\n",
       "      <td>1500</td>\n",
       "      <td>NaN</td>\n",
       "      <td>NaN</td>\n",
       "      <td>NaN</td>\n",
       "      <td>NaN</td>\n",
       "      <td>NaN</td>\n",
       "      <td>...</td>\n",
       "      <td>NaN</td>\n",
       "      <td>NaN</td>\n",
       "      <td>NaN</td>\n",
       "      <td>NaN</td>\n",
       "      <td>NaN</td>\n",
       "      <td>NaN</td>\n",
       "      <td>ma</td>\n",
       "      <td>NaN</td>\n",
       "      <td>NaN</td>\n",
       "      <td>NaN</td>\n",
       "    </tr>\n",
       "    <tr>\n",
       "      <th>4</th>\n",
       "      <td>7210384030</td>\n",
       "      <td>https://greensboro.craigslist.org/cto/d/trinit...</td>\n",
       "      <td>greensboro</td>\n",
       "      <td>https://greensboro.craigslist.org</td>\n",
       "      <td>4900</td>\n",
       "      <td>NaN</td>\n",
       "      <td>NaN</td>\n",
       "      <td>NaN</td>\n",
       "      <td>NaN</td>\n",
       "      <td>NaN</td>\n",
       "      <td>...</td>\n",
       "      <td>NaN</td>\n",
       "      <td>NaN</td>\n",
       "      <td>NaN</td>\n",
       "      <td>NaN</td>\n",
       "      <td>NaN</td>\n",
       "      <td>NaN</td>\n",
       "      <td>nc</td>\n",
       "      <td>NaN</td>\n",
       "      <td>NaN</td>\n",
       "      <td>NaN</td>\n",
       "    </tr>\n",
       "  </tbody>\n",
       "</table>\n",
       "<p>5 rows × 26 columns</p>\n",
       "</div>"
      ],
      "text/plain": [
       "           id                                                url  \\\n",
       "0  7222695916  https://prescott.craigslist.org/cto/d/prescott...   \n",
       "1  7218891961  https://fayar.craigslist.org/ctd/d/bentonville...   \n",
       "2  7221797935  https://keys.craigslist.org/cto/d/summerland-k...   \n",
       "3  7222270760  https://worcester.craigslist.org/cto/d/west-br...   \n",
       "4  7210384030  https://greensboro.craigslist.org/cto/d/trinit...   \n",
       "\n",
       "                   region                         region_url  price  year  \\\n",
       "0                prescott    https://prescott.craigslist.org   6000   NaN   \n",
       "1            fayetteville       https://fayar.craigslist.org  11900   NaN   \n",
       "2            florida keys        https://keys.craigslist.org  21000   NaN   \n",
       "3  worcester / central MA   https://worcester.craigslist.org   1500   NaN   \n",
       "4              greensboro  https://greensboro.craigslist.org   4900   NaN   \n",
       "\n",
       "  manufacturer model condition cylinders  ... size  type paint_color  \\\n",
       "0          NaN   NaN       NaN       NaN  ...  NaN   NaN         NaN   \n",
       "1          NaN   NaN       NaN       NaN  ...  NaN   NaN         NaN   \n",
       "2          NaN   NaN       NaN       NaN  ...  NaN   NaN         NaN   \n",
       "3          NaN   NaN       NaN       NaN  ...  NaN   NaN         NaN   \n",
       "4          NaN   NaN       NaN       NaN  ...  NaN   NaN         NaN   \n",
       "\n",
       "  image_url description county state lat long posting_date  \n",
       "0       NaN         NaN    NaN    az NaN  NaN          NaN  \n",
       "1       NaN         NaN    NaN    ar NaN  NaN          NaN  \n",
       "2       NaN         NaN    NaN    fl NaN  NaN          NaN  \n",
       "3       NaN         NaN    NaN    ma NaN  NaN          NaN  \n",
       "4       NaN         NaN    NaN    nc NaN  NaN          NaN  \n",
       "\n",
       "[5 rows x 26 columns]"
      ]
     },
     "execution_count": 3,
     "metadata": {},
     "output_type": "execute_result"
    }
   ],
   "source": [
    "data = pd.read_csv('vehicles.csv')\n",
    "data.head()"
   ]
  },
  {
   "cell_type": "code",
   "execution_count": 4,
   "metadata": {},
   "outputs": [
    {
     "data": {
      "text/plain": [
       "id                int64\n",
       "url              object\n",
       "region           object\n",
       "region_url       object\n",
       "price             int64\n",
       "year            float64\n",
       "manufacturer     object\n",
       "model            object\n",
       "condition        object\n",
       "cylinders        object\n",
       "fuel             object\n",
       "odometer        float64\n",
       "title_status     object\n",
       "transmission     object\n",
       "VIN              object\n",
       "drive            object\n",
       "size             object\n",
       "type             object\n",
       "paint_color      object\n",
       "image_url        object\n",
       "description      object\n",
       "county          float64\n",
       "state            object\n",
       "lat             float64\n",
       "long            float64\n",
       "posting_date     object\n",
       "dtype: object"
      ]
     },
     "execution_count": 4,
     "metadata": {},
     "output_type": "execute_result"
    }
   ],
   "source": [
    "data.dtypes"
   ]
  },
  {
   "cell_type": "code",
   "execution_count": 5,
   "metadata": {},
   "outputs": [
    {
     "data": {
      "text/html": [
       "<div>\n",
       "<style scoped>\n",
       "    .dataframe tbody tr th:only-of-type {\n",
       "        vertical-align: middle;\n",
       "    }\n",
       "\n",
       "    .dataframe tbody tr th {\n",
       "        vertical-align: top;\n",
       "    }\n",
       "\n",
       "    .dataframe thead th {\n",
       "        text-align: right;\n",
       "    }\n",
       "</style>\n",
       "<table border=\"1\" class=\"dataframe\">\n",
       "  <thead>\n",
       "    <tr style=\"text-align: right;\">\n",
       "      <th></th>\n",
       "      <th>id</th>\n",
       "      <th>price</th>\n",
       "      <th>year</th>\n",
       "      <th>odometer</th>\n",
       "      <th>county</th>\n",
       "      <th>lat</th>\n",
       "      <th>long</th>\n",
       "    </tr>\n",
       "  </thead>\n",
       "  <tbody>\n",
       "    <tr>\n",
       "      <th>count</th>\n",
       "      <td>4.268800e+05</td>\n",
       "      <td>4.268800e+05</td>\n",
       "      <td>425675.000000</td>\n",
       "      <td>4.224800e+05</td>\n",
       "      <td>0.0</td>\n",
       "      <td>420331.000000</td>\n",
       "      <td>420331.000000</td>\n",
       "    </tr>\n",
       "    <tr>\n",
       "      <th>mean</th>\n",
       "      <td>7.311487e+09</td>\n",
       "      <td>7.519903e+04</td>\n",
       "      <td>2011.235191</td>\n",
       "      <td>9.804333e+04</td>\n",
       "      <td>NaN</td>\n",
       "      <td>38.493940</td>\n",
       "      <td>-94.748599</td>\n",
       "    </tr>\n",
       "    <tr>\n",
       "      <th>std</th>\n",
       "      <td>4.473170e+06</td>\n",
       "      <td>1.218228e+07</td>\n",
       "      <td>9.452120</td>\n",
       "      <td>2.138815e+05</td>\n",
       "      <td>NaN</td>\n",
       "      <td>5.841533</td>\n",
       "      <td>18.365462</td>\n",
       "    </tr>\n",
       "    <tr>\n",
       "      <th>min</th>\n",
       "      <td>7.207408e+09</td>\n",
       "      <td>0.000000e+00</td>\n",
       "      <td>1900.000000</td>\n",
       "      <td>0.000000e+00</td>\n",
       "      <td>NaN</td>\n",
       "      <td>-84.122245</td>\n",
       "      <td>-159.827728</td>\n",
       "    </tr>\n",
       "    <tr>\n",
       "      <th>25%</th>\n",
       "      <td>7.308143e+09</td>\n",
       "      <td>5.900000e+03</td>\n",
       "      <td>2008.000000</td>\n",
       "      <td>3.770400e+04</td>\n",
       "      <td>NaN</td>\n",
       "      <td>34.601900</td>\n",
       "      <td>-111.939847</td>\n",
       "    </tr>\n",
       "    <tr>\n",
       "      <th>50%</th>\n",
       "      <td>7.312621e+09</td>\n",
       "      <td>1.395000e+04</td>\n",
       "      <td>2013.000000</td>\n",
       "      <td>8.554800e+04</td>\n",
       "      <td>NaN</td>\n",
       "      <td>39.150100</td>\n",
       "      <td>-88.432600</td>\n",
       "    </tr>\n",
       "    <tr>\n",
       "      <th>75%</th>\n",
       "      <td>7.315254e+09</td>\n",
       "      <td>2.648575e+04</td>\n",
       "      <td>2017.000000</td>\n",
       "      <td>1.335425e+05</td>\n",
       "      <td>NaN</td>\n",
       "      <td>42.398900</td>\n",
       "      <td>-80.832039</td>\n",
       "    </tr>\n",
       "    <tr>\n",
       "      <th>max</th>\n",
       "      <td>7.317101e+09</td>\n",
       "      <td>3.736929e+09</td>\n",
       "      <td>2022.000000</td>\n",
       "      <td>1.000000e+07</td>\n",
       "      <td>NaN</td>\n",
       "      <td>82.390818</td>\n",
       "      <td>173.885502</td>\n",
       "    </tr>\n",
       "  </tbody>\n",
       "</table>\n",
       "</div>"
      ],
      "text/plain": [
       "                 id         price           year      odometer  county  \\\n",
       "count  4.268800e+05  4.268800e+05  425675.000000  4.224800e+05     0.0   \n",
       "mean   7.311487e+09  7.519903e+04    2011.235191  9.804333e+04     NaN   \n",
       "std    4.473170e+06  1.218228e+07       9.452120  2.138815e+05     NaN   \n",
       "min    7.207408e+09  0.000000e+00    1900.000000  0.000000e+00     NaN   \n",
       "25%    7.308143e+09  5.900000e+03    2008.000000  3.770400e+04     NaN   \n",
       "50%    7.312621e+09  1.395000e+04    2013.000000  8.554800e+04     NaN   \n",
       "75%    7.315254e+09  2.648575e+04    2017.000000  1.335425e+05     NaN   \n",
       "max    7.317101e+09  3.736929e+09    2022.000000  1.000000e+07     NaN   \n",
       "\n",
       "                 lat           long  \n",
       "count  420331.000000  420331.000000  \n",
       "mean       38.493940     -94.748599  \n",
       "std         5.841533      18.365462  \n",
       "min       -84.122245    -159.827728  \n",
       "25%        34.601900    -111.939847  \n",
       "50%        39.150100     -88.432600  \n",
       "75%        42.398900     -80.832039  \n",
       "max        82.390818     173.885502  "
      ]
     },
     "execution_count": 5,
     "metadata": {},
     "output_type": "execute_result"
    }
   ],
   "source": [
    "data.describe()"
   ]
  },
  {
   "cell_type": "code",
   "execution_count": 6,
   "metadata": {},
   "outputs": [
    {
     "data": {
      "text/plain": [
       "id                   0\n",
       "url                  0\n",
       "region               0\n",
       "region_url           0\n",
       "price                0\n",
       "year              1205\n",
       "manufacturer     17646\n",
       "model             5277\n",
       "condition       174104\n",
       "cylinders       177678\n",
       "fuel              3013\n",
       "odometer          4400\n",
       "title_status      8242\n",
       "transmission      2556\n",
       "VIN             161042\n",
       "drive           130567\n",
       "size            306361\n",
       "type             92858\n",
       "paint_color     130203\n",
       "image_url           68\n",
       "description         70\n",
       "county          426880\n",
       "state                0\n",
       "lat               6549\n",
       "long              6549\n",
       "posting_date        68\n",
       "dtype: int64"
      ]
     },
     "execution_count": 6,
     "metadata": {},
     "output_type": "execute_result"
    }
   ],
   "source": [
    "data.isnull().sum()"
   ]
  },
  {
   "cell_type": "code",
   "execution_count": 7,
   "metadata": {},
   "outputs": [
    {
     "data": {
      "text/plain": [
       "(<AxesSubplot:>,\n",
       " 0        32895\n",
       " 6995      3169\n",
       " 7995      3129\n",
       " 9995      2867\n",
       " 8995      2837\n",
       "          ...  \n",
       " 21298        1\n",
       " 49217        1\n",
       " 63195        1\n",
       " 19709        1\n",
       " 17873        1\n",
       " Name: price, Length: 15655, dtype: int64)"
      ]
     },
     "execution_count": 7,
     "metadata": {},
     "output_type": "execute_result"
    },
    {
     "data": {
      "image/png": "[encoded data removed]",
      "text/plain": [
       "<Figure size 640x480 with 1 Axes>"
      ]
     },
     "metadata": {},
     "output_type": "display_data"
    }
   ],
   "source": [
    "data.price.plot(), data.price.value_counts()"
   ]
  },
  {
   "cell_type": "markdown",
   "metadata": {},
   "source": [
    "Lots of prices are undisclosed and are set to 0, not very useful for us since this is not the right price for prediction. Will throw off our model if kept in."
   ]
  },
  {
   "cell_type": "code",
   "execution_count": 8,
   "metadata": {},
   "outputs": [],
   "source": [
    "data = data[data['price'] > 0]"
   ]
  },
  {
   "cell_type": "code",
   "execution_count": 9,
   "metadata": {},
   "outputs": [
    {
     "data": {
      "text/plain": [
       "(6995     3169\n",
       " 7995     3129\n",
       " 9995     2867\n",
       " 8995     2837\n",
       " 4500     2778\n",
       "          ... \n",
       " 47105       1\n",
       " 62987       1\n",
       " 40305       1\n",
       " 44691       1\n",
       " 17873       1\n",
       " Name: price, Length: 15654, dtype: int64,\n",
       " 3736928711,\n",
       " 1)"
      ]
     },
     "execution_count": 9,
     "metadata": {},
     "output_type": "execute_result"
    }
   ],
   "source": [
    "data.price.value_counts(), data.price.max(), data.price.min()"
   ]
  },
  {
   "cell_type": "markdown",
   "metadata": {},
   "source": [
    "The max price is way too high, not feasible for a used car to be sold for this much. Same with lower price again, have to change threshold higher.\n",
    "<br>\n",
    "Will use greater than $1000 but less than a hundred thousand dollars."
   ]
  },
  {
   "cell_type": "code",
   "execution_count": 10,
   "metadata": {},
   "outputs": [],
   "source": [
    "data = data[(data['price'] > 1000) & (data['price'] < 100000)]"
   ]
  },
  {
   "cell_type": "code",
   "execution_count": 11,
   "metadata": {},
   "outputs": [
    {
     "data": {
      "text/plain": [
       "(6995     3169\n",
       " 7995     3129\n",
       " 9995     2867\n",
       " 8995     2837\n",
       " 4500     2778\n",
       "          ... \n",
       " 19239       1\n",
       " 51662       1\n",
       " 15425       1\n",
       " 31548       1\n",
       " 17873       1\n",
       " Name: price, Length: 14613, dtype: int64,\n",
       " 99999,\n",
       " 1002)"
      ]
     },
     "execution_count": 11,
     "metadata": {},
     "output_type": "execute_result"
    }
   ],
   "source": [
    "data.price.value_counts(), data.price.max(), data.price.min()"
   ]
  },
  {
   "cell_type": "code",
   "execution_count": 12,
   "metadata": {},
   "outputs": [],
   "source": [
    "df = data[['price', 'year', 'manufacturer', 'model', 'condition', 'cylinders', 'fuel', 'odometer', 'title_status', 'transmission', 'size', 'drive', 'type', 'paint_color', 'state']]"
   ]
  },
  {
   "cell_type": "markdown",
   "metadata": {},
   "source": [
    "Both year and the odometer are correlated with price in a way. The newer the used car the higher the price (hence positive correlation), while the higher the odometer the lower the price (hence negative correlation)"
   ]
  },
  {
   "cell_type": "markdown",
   "metadata": {},
   "source": [
    "## Prepare Data (Categorical Columns)"
   ]
  },
  {
   "cell_type": "code",
   "execution_count": 13,
   "metadata": {},
   "outputs": [
    {
     "name": "stdout",
     "output_type": "stream",
     "text": [
      "<class 'pandas.core.frame.DataFrame'>\n",
      "Int64Index: 378659 entries, 0 to 426879\n",
      "Data columns (total 15 columns):\n",
      " #   Column        Non-Null Count   Dtype  \n",
      "---  ------        --------------   -----  \n",
      " 0   price         378659 non-null  int64  \n",
      " 1   year          377497 non-null  float64\n",
      " 2   manufacturer  363864 non-null  object \n",
      " 3   model         374354 non-null  object \n",
      " 4   condition     236126 non-null  object \n",
      " 5   cylinders     224127 non-null  object \n",
      " 6   fuel          376072 non-null  object \n",
      " 7   odometer      376588 non-null  float64\n",
      " 8   title_status  372108 non-null  object \n",
      " 9   transmission  376851 non-null  object \n",
      " 10  size          106708 non-null  object \n",
      " 11  drive         264247 non-null  object \n",
      " 12  type          298163 non-null  object \n",
      " 13  paint_color   270641 non-null  object \n",
      " 14  state         378659 non-null  object \n",
      "dtypes: float64(2), int64(1), object(12)\n",
      "memory usage: 46.2+ MB\n"
     ]
    }
   ],
   "source": [
    "df.info()"
   ]
  },
  {
   "cell_type": "code",
   "execution_count": 14,
   "metadata": {},
   "outputs": [
    {
     "data": {
      "text/plain": [
       "price                0\n",
       "year              1162\n",
       "manufacturer     14795\n",
       "model             4305\n",
       "condition       142533\n",
       "cylinders       154532\n",
       "fuel              2587\n",
       "odometer          2071\n",
       "title_status      6551\n",
       "transmission      1808\n",
       "size            271951\n",
       "drive           114412\n",
       "type             80496\n",
       "paint_color     108018\n",
       "state                0\n",
       "dtype: int64"
      ]
     },
     "execution_count": 14,
     "metadata": {},
     "output_type": "execute_result"
    }
   ],
   "source": [
    "df.isna().sum()"
   ]
  },
  {
   "cell_type": "code",
   "execution_count": 15,
   "metadata": {},
   "outputs": [],
   "source": [
    "df = df.dropna()"
   ]
  },
  {
   "cell_type": "code",
   "execution_count": 16,
   "metadata": {},
   "outputs": [],
   "source": [
    "## Manufacturer\n",
    "le = preprocessing.LabelEncoder()\n",
    "man = df.manufacturer.values\n",
    "le.fit(man)\n",
    "df['manufacturer'] = le.transform(man)"
   ]
  },
  {
   "cell_type": "code",
   "execution_count": 17,
   "metadata": {},
   "outputs": [],
   "source": [
    "## Model\n",
    "le = preprocessing.LabelEncoder()\n",
    "model = df.model.values\n",
    "le.fit(model)\n",
    "df['model'] = le.transform(model)"
   ]
  },
  {
   "cell_type": "code",
   "execution_count": 18,
   "metadata": {},
   "outputs": [],
   "source": [
    "## Condition\n",
    "le = preprocessing.LabelEncoder()\n",
    "condition = df.condition.values\n",
    "le.fit(condition)\n",
    "df['condition'] = le.transform(condition)"
   ]
  },
  {
   "cell_type": "code",
   "execution_count": 19,
   "metadata": {},
   "outputs": [],
   "source": [
    "## Cylinders \n",
    "le = preprocessing.LabelEncoder()\n",
    "cylinders = df.cylinders.values\n",
    "le.fit(cylinders)\n",
    "df['cylinders'] = le.transform(cylinders)"
   ]
  },
  {
   "cell_type": "code",
   "execution_count": 20,
   "metadata": {},
   "outputs": [],
   "source": [
    "## Fuel\n",
    "le = preprocessing.LabelEncoder()\n",
    "fuel = df.fuel.values\n",
    "le.fit(fuel)\n",
    "df['fuel'] = le.transform(fuel)"
   ]
  },
  {
   "cell_type": "code",
   "execution_count": 21,
   "metadata": {},
   "outputs": [],
   "source": [
    "## Title Status\n",
    "le = preprocessing.LabelEncoder()\n",
    "title_status = df.title_status.values\n",
    "le.fit(title_status)\n",
    "df['title_status'] = le.transform(title_status)"
   ]
  },
  {
   "cell_type": "code",
   "execution_count": 22,
   "metadata": {},
   "outputs": [],
   "source": [
    "## Transmission\n",
    "le = preprocessing.LabelEncoder()\n",
    "transmission = df.transmission.values\n",
    "le.fit(transmission)\n",
    "df['transmission'] = le.transform(transmission)"
   ]
  },
  {
   "cell_type": "code",
   "execution_count": 23,
   "metadata": {},
   "outputs": [],
   "source": [
    "## Size\n",
    "le = preprocessing.LabelEncoder()\n",
    "size = df['size'].values\n",
    "le.fit(size)\n",
    "df['size'] = le.transform(size)"
   ]
  },
  {
   "cell_type": "code",
   "execution_count": 24,
   "metadata": {},
   "outputs": [],
   "source": [
    "## Drive\n",
    "le = preprocessing.LabelEncoder()\n",
    "drive = df.drive.values\n",
    "le.fit(drive)\n",
    "df['drive'] = le.transform(drive)"
   ]
  },
  {
   "cell_type": "code",
   "execution_count": 25,
   "metadata": {},
   "outputs": [],
   "source": [
    "## Type\n",
    "le = preprocessing.LabelEncoder()\n",
    "car_type = df.type.values\n",
    "le.fit(car_type)\n",
    "df['type'] = le.transform(car_type)"
   ]
  },
  {
   "cell_type": "code",
   "execution_count": 26,
   "metadata": {},
   "outputs": [],
   "source": [
    "## Paint Color\n",
    "le = preprocessing.LabelEncoder()\n",
    "paint_color = df.paint_color.values\n",
    "le.fit(paint_color)\n",
    "df['paint_color'] = le.transform(paint_color)"
   ]
  },
  {
   "cell_type": "code",
   "execution_count": 27,
   "metadata": {},
   "outputs": [],
   "source": [
    "## State\n",
    "le = preprocessing.LabelEncoder()\n",
    "state = df.state.values\n",
    "le.fit(state)\n",
    "df['state'] = le.transform(state)"
   ]
  },
  {
   "cell_type": "code",
   "execution_count": 28,
   "metadata": {},
   "outputs": [
    {
     "data": {
      "text/html": [
       "<div>\n",
       "<style scoped>\n",
       "    .dataframe tbody tr th:only-of-type {\n",
       "        vertical-align: middle;\n",
       "    }\n",
       "\n",
       "    .dataframe tbody tr th {\n",
       "        vertical-align: top;\n",
       "    }\n",
       "\n",
       "    .dataframe thead th {\n",
       "        text-align: right;\n",
       "    }\n",
       "</style>\n",
       "<table border=\"1\" class=\"dataframe\">\n",
       "  <thead>\n",
       "    <tr style=\"text-align: right;\">\n",
       "      <th></th>\n",
       "      <th>price</th>\n",
       "      <th>year</th>\n",
       "      <th>manufacturer</th>\n",
       "      <th>model</th>\n",
       "      <th>condition</th>\n",
       "      <th>cylinders</th>\n",
       "      <th>fuel</th>\n",
       "      <th>odometer</th>\n",
       "      <th>title_status</th>\n",
       "      <th>transmission</th>\n",
       "      <th>size</th>\n",
       "      <th>drive</th>\n",
       "      <th>type</th>\n",
       "      <th>paint_color</th>\n",
       "      <th>state</th>\n",
       "    </tr>\n",
       "  </thead>\n",
       "  <tbody>\n",
       "    <tr>\n",
       "      <th>price</th>\n",
       "      <td>1.000000</td>\n",
       "      <td>0.262123</td>\n",
       "      <td>-0.061816</td>\n",
       "      <td>0.067151</td>\n",
       "      <td>0.011955</td>\n",
       "      <td>0.260596</td>\n",
       "      <td>-0.352256</td>\n",
       "      <td>-0.165322</td>\n",
       "      <td>-0.025603</td>\n",
       "      <td>-0.025224</td>\n",
       "      <td>-0.054421</td>\n",
       "      <td>-0.158280</td>\n",
       "      <td>0.090991</td>\n",
       "      <td>0.054775</td>\n",
       "      <td>-0.014029</td>\n",
       "    </tr>\n",
       "    <tr>\n",
       "      <th>year</th>\n",
       "      <td>0.262123</td>\n",
       "      <td>1.000000</td>\n",
       "      <td>0.056290</td>\n",
       "      <td>0.056022</td>\n",
       "      <td>-0.032392</td>\n",
       "      <td>-0.201560</td>\n",
       "      <td>-0.020659</td>\n",
       "      <td>-0.112819</td>\n",
       "      <td>0.065571</td>\n",
       "      <td>-0.226571</td>\n",
       "      <td>0.021447</td>\n",
       "      <td>-0.256230</td>\n",
       "      <td>0.019146</td>\n",
       "      <td>0.032609</td>\n",
       "      <td>0.018388</td>\n",
       "    </tr>\n",
       "    <tr>\n",
       "      <th>manufacturer</th>\n",
       "      <td>-0.061816</td>\n",
       "      <td>0.056290</td>\n",
       "      <td>1.000000</td>\n",
       "      <td>-0.019677</td>\n",
       "      <td>-0.024864</td>\n",
       "      <td>-0.250465</td>\n",
       "      <td>0.033381</td>\n",
       "      <td>0.006220</td>\n",
       "      <td>0.023919</td>\n",
       "      <td>0.053333</td>\n",
       "      <td>0.020032</td>\n",
       "      <td>-0.077651</td>\n",
       "      <td>-0.019153</td>\n",
       "      <td>-0.018286</td>\n",
       "      <td>-0.022830</td>\n",
       "    </tr>\n",
       "    <tr>\n",
       "      <th>model</th>\n",
       "      <td>0.067151</td>\n",
       "      <td>0.056022</td>\n",
       "      <td>-0.019677</td>\n",
       "      <td>1.000000</td>\n",
       "      <td>-0.004255</td>\n",
       "      <td>0.094616</td>\n",
       "      <td>0.022987</td>\n",
       "      <td>-0.005418</td>\n",
       "      <td>-0.021647</td>\n",
       "      <td>-0.017905</td>\n",
       "      <td>0.010170</td>\n",
       "      <td>-0.125589</td>\n",
       "      <td>-0.119282</td>\n",
       "      <td>0.011259</td>\n",
       "      <td>0.023986</td>\n",
       "    </tr>\n",
       "    <tr>\n",
       "      <th>condition</th>\n",
       "      <td>0.011955</td>\n",
       "      <td>-0.032392</td>\n",
       "      <td>-0.024864</td>\n",
       "      <td>-0.004255</td>\n",
       "      <td>1.000000</td>\n",
       "      <td>0.024494</td>\n",
       "      <td>-0.013012</td>\n",
       "      <td>0.007170</td>\n",
       "      <td>0.029724</td>\n",
       "      <td>0.017852</td>\n",
       "      <td>-0.019448</td>\n",
       "      <td>0.037573</td>\n",
       "      <td>0.031729</td>\n",
       "      <td>0.012717</td>\n",
       "      <td>0.018496</td>\n",
       "    </tr>\n",
       "    <tr>\n",
       "      <th>cylinders</th>\n",
       "      <td>0.260596</td>\n",
       "      <td>-0.201560</td>\n",
       "      <td>-0.250465</td>\n",
       "      <td>0.094616</td>\n",
       "      <td>0.024494</td>\n",
       "      <td>1.000000</td>\n",
       "      <td>-0.202035</td>\n",
       "      <td>0.045795</td>\n",
       "      <td>-0.065659</td>\n",
       "      <td>-0.085551</td>\n",
       "      <td>-0.047075</td>\n",
       "      <td>-0.026250</td>\n",
       "      <td>0.053520</td>\n",
       "      <td>0.030336</td>\n",
       "      <td>0.011884</td>\n",
       "    </tr>\n",
       "    <tr>\n",
       "      <th>fuel</th>\n",
       "      <td>-0.352256</td>\n",
       "      <td>-0.020659</td>\n",
       "      <td>0.033381</td>\n",
       "      <td>0.022987</td>\n",
       "      <td>-0.013012</td>\n",
       "      <td>-0.202035</td>\n",
       "      <td>1.000000</td>\n",
       "      <td>-0.024453</td>\n",
       "      <td>0.017198</td>\n",
       "      <td>-0.006983</td>\n",
       "      <td>0.068187</td>\n",
       "      <td>0.104659</td>\n",
       "      <td>-0.189522</td>\n",
       "      <td>-0.072574</td>\n",
       "      <td>-0.017572</td>\n",
       "    </tr>\n",
       "    <tr>\n",
       "      <th>odometer</th>\n",
       "      <td>-0.165322</td>\n",
       "      <td>-0.112819</td>\n",
       "      <td>0.006220</td>\n",
       "      <td>-0.005418</td>\n",
       "      <td>0.007170</td>\n",
       "      <td>0.045795</td>\n",
       "      <td>-0.024453</td>\n",
       "      <td>1.000000</td>\n",
       "      <td>-0.033269</td>\n",
       "      <td>0.019126</td>\n",
       "      <td>-0.001629</td>\n",
       "      <td>-0.006894</td>\n",
       "      <td>0.000290</td>\n",
       "      <td>0.004923</td>\n",
       "      <td>-0.003280</td>\n",
       "    </tr>\n",
       "    <tr>\n",
       "      <th>title_status</th>\n",
       "      <td>-0.025603</td>\n",
       "      <td>0.065571</td>\n",
       "      <td>0.023919</td>\n",
       "      <td>-0.021647</td>\n",
       "      <td>0.029724</td>\n",
       "      <td>-0.065659</td>\n",
       "      <td>0.017198</td>\n",
       "      <td>-0.033269</td>\n",
       "      <td>1.000000</td>\n",
       "      <td>-0.001875</td>\n",
       "      <td>-0.003195</td>\n",
       "      <td>-0.008651</td>\n",
       "      <td>0.004390</td>\n",
       "      <td>-0.025556</td>\n",
       "      <td>0.003702</td>\n",
       "    </tr>\n",
       "    <tr>\n",
       "      <th>transmission</th>\n",
       "      <td>-0.025224</td>\n",
       "      <td>-0.226571</td>\n",
       "      <td>0.053333</td>\n",
       "      <td>-0.017905</td>\n",
       "      <td>0.017852</td>\n",
       "      <td>-0.085551</td>\n",
       "      <td>-0.006983</td>\n",
       "      <td>0.019126</td>\n",
       "      <td>-0.001875</td>\n",
       "      <td>1.000000</td>\n",
       "      <td>-0.051754</td>\n",
       "      <td>0.095553</td>\n",
       "      <td>-0.021812</td>\n",
       "      <td>-0.024172</td>\n",
       "      <td>-0.004808</td>\n",
       "    </tr>\n",
       "    <tr>\n",
       "      <th>size</th>\n",
       "      <td>-0.054421</td>\n",
       "      <td>0.021447</td>\n",
       "      <td>0.020032</td>\n",
       "      <td>0.010170</td>\n",
       "      <td>-0.019448</td>\n",
       "      <td>-0.047075</td>\n",
       "      <td>0.068187</td>\n",
       "      <td>-0.001629</td>\n",
       "      <td>-0.003195</td>\n",
       "      <td>-0.051754</td>\n",
       "      <td>1.000000</td>\n",
       "      <td>-0.025933</td>\n",
       "      <td>-0.079064</td>\n",
       "      <td>-0.009535</td>\n",
       "      <td>0.010823</td>\n",
       "    </tr>\n",
       "    <tr>\n",
       "      <th>drive</th>\n",
       "      <td>-0.158280</td>\n",
       "      <td>-0.256230</td>\n",
       "      <td>-0.077651</td>\n",
       "      <td>-0.125589</td>\n",
       "      <td>0.037573</td>\n",
       "      <td>-0.026250</td>\n",
       "      <td>0.104659</td>\n",
       "      <td>-0.006894</td>\n",
       "      <td>-0.008651</td>\n",
       "      <td>0.095553</td>\n",
       "      <td>-0.025933</td>\n",
       "      <td>1.000000</td>\n",
       "      <td>0.183615</td>\n",
       "      <td>0.078503</td>\n",
       "      <td>-0.060169</td>\n",
       "    </tr>\n",
       "    <tr>\n",
       "      <th>type</th>\n",
       "      <td>0.090991</td>\n",
       "      <td>0.019146</td>\n",
       "      <td>-0.019153</td>\n",
       "      <td>-0.119282</td>\n",
       "      <td>0.031729</td>\n",
       "      <td>0.053520</td>\n",
       "      <td>-0.189522</td>\n",
       "      <td>0.000290</td>\n",
       "      <td>0.004390</td>\n",
       "      <td>-0.021812</td>\n",
       "      <td>-0.079064</td>\n",
       "      <td>0.183615</td>\n",
       "      <td>1.000000</td>\n",
       "      <td>0.087651</td>\n",
       "      <td>0.005026</td>\n",
       "    </tr>\n",
       "    <tr>\n",
       "      <th>paint_color</th>\n",
       "      <td>0.054775</td>\n",
       "      <td>0.032609</td>\n",
       "      <td>-0.018286</td>\n",
       "      <td>0.011259</td>\n",
       "      <td>0.012717</td>\n",
       "      <td>0.030336</td>\n",
       "      <td>-0.072574</td>\n",
       "      <td>0.004923</td>\n",
       "      <td>-0.025556</td>\n",
       "      <td>-0.024172</td>\n",
       "      <td>-0.009535</td>\n",
       "      <td>0.078503</td>\n",
       "      <td>0.087651</td>\n",
       "      <td>1.000000</td>\n",
       "      <td>-0.008196</td>\n",
       "    </tr>\n",
       "    <tr>\n",
       "      <th>state</th>\n",
       "      <td>-0.014029</td>\n",
       "      <td>0.018388</td>\n",
       "      <td>-0.022830</td>\n",
       "      <td>0.023986</td>\n",
       "      <td>0.018496</td>\n",
       "      <td>0.011884</td>\n",
       "      <td>-0.017572</td>\n",
       "      <td>-0.003280</td>\n",
       "      <td>0.003702</td>\n",
       "      <td>-0.004808</td>\n",
       "      <td>0.010823</td>\n",
       "      <td>-0.060169</td>\n",
       "      <td>0.005026</td>\n",
       "      <td>-0.008196</td>\n",
       "      <td>1.000000</td>\n",
       "    </tr>\n",
       "  </tbody>\n",
       "</table>\n",
       "</div>"
      ],
      "text/plain": [
       "                 price      year  manufacturer     model  condition  \\\n",
       "price         1.000000  0.262123     -0.061816  0.067151   0.011955   \n",
       "year          0.262123  1.000000      0.056290  0.056022  -0.032392   \n",
       "manufacturer -0.061816  0.056290      1.000000 -0.019677  -0.024864   \n",
       "model         0.067151  0.056022     -0.019677  1.000000  -0.004255   \n",
       "condition     0.011955 -0.032392     -0.024864 -0.004255   1.000000   \n",
       "cylinders     0.260596 -0.201560     -0.250465  0.094616   0.024494   \n",
       "fuel         -0.352256 -0.020659      0.033381  0.022987  -0.013012   \n",
       "odometer     -0.165322 -0.112819      0.006220 -0.005418   0.007170   \n",
       "title_status -0.025603  0.065571      0.023919 -0.021647   0.029724   \n",
       "transmission -0.025224 -0.226571      0.053333 -0.017905   0.017852   \n",
       "size         -0.054421  0.021447      0.020032  0.010170  -0.019448   \n",
       "drive        -0.158280 -0.256230     -0.077651 -0.125589   0.037573   \n",
       "type          0.090991  0.019146     -0.019153 -0.119282   0.031729   \n",
       "paint_color   0.054775  0.032609     -0.018286  0.011259   0.012717   \n",
       "state        -0.014029  0.018388     -0.022830  0.023986   0.018496   \n",
       "\n",
       "              cylinders      fuel  odometer  title_status  transmission  \\\n",
       "price          0.260596 -0.352256 -0.165322     -0.025603     -0.025224   \n",
       "year          -0.201560 -0.020659 -0.112819      0.065571     -0.226571   \n",
       "manufacturer  -0.250465  0.033381  0.006220      0.023919      0.053333   \n",
       "model          0.094616  0.022987 -0.005418     -0.021647     -0.017905   \n",
       "condition      0.024494 -0.013012  0.007170      0.029724      0.017852   \n",
       "cylinders      1.000000 -0.202035  0.045795     -0.065659     -0.085551   \n",
       "fuel          -0.202035  1.000000 -0.024453      0.017198     -0.006983   \n",
       "odometer       0.045795 -0.024453  1.000000     -0.033269      0.019126   \n",
       "title_status  -0.065659  0.017198 -0.033269      1.000000     -0.001875   \n",
       "transmission  -0.085551 -0.006983  0.019126     -0.001875      1.000000   \n",
       "size          -0.047075  0.068187 -0.001629     -0.003195     -0.051754   \n",
       "drive         -0.026250  0.104659 -0.006894     -0.008651      0.095553   \n",
       "type           0.053520 -0.189522  0.000290      0.004390     -0.021812   \n",
       "paint_color    0.030336 -0.072574  0.004923     -0.025556     -0.024172   \n",
       "state          0.011884 -0.017572 -0.003280      0.003702     -0.004808   \n",
       "\n",
       "                  size     drive      type  paint_color     state  \n",
       "price        -0.054421 -0.158280  0.090991     0.054775 -0.014029  \n",
       "year          0.021447 -0.256230  0.019146     0.032609  0.018388  \n",
       "manufacturer  0.020032 -0.077651 -0.019153    -0.018286 -0.022830  \n",
       "model         0.010170 -0.125589 -0.119282     0.011259  0.023986  \n",
       "condition    -0.019448  0.037573  0.031729     0.012717  0.018496  \n",
       "cylinders    -0.047075 -0.026250  0.053520     0.030336  0.011884  \n",
       "fuel          0.068187  0.104659 -0.189522    -0.072574 -0.017572  \n",
       "odometer     -0.001629 -0.006894  0.000290     0.004923 -0.003280  \n",
       "title_status -0.003195 -0.008651  0.004390    -0.025556  0.003702  \n",
       "transmission -0.051754  0.095553 -0.021812    -0.024172 -0.004808  \n",
       "size          1.000000 -0.025933 -0.079064    -0.009535  0.010823  \n",
       "drive        -0.025933  1.000000  0.183615     0.078503 -0.060169  \n",
       "type         -0.079064  0.183615  1.000000     0.087651  0.005026  \n",
       "paint_color  -0.009535  0.078503  0.087651     1.000000 -0.008196  \n",
       "state         0.010823 -0.060169  0.005026    -0.008196  1.000000  "
      ]
     },
     "execution_count": 28,
     "metadata": {},
     "output_type": "execute_result"
    }
   ],
   "source": [
    "df.corr()"
   ]
  },
  {
   "cell_type": "markdown",
   "metadata": {},
   "source": [
    "## Model Selection"
   ]
  },
  {
   "cell_type": "markdown",
   "metadata": {},
   "source": [
    "Prepare data."
   ]
  },
  {
   "cell_type": "code",
   "execution_count": 29,
   "metadata": {},
   "outputs": [],
   "source": [
    "obs = df.price\n",
    "x = df.drop(columns=['price'])\n",
    "Xtrain, Xtest, ytrain, ytest = train_test_split(x, obs, test_size = 0.25)"
   ]
  },
  {
   "cell_type": "markdown",
   "metadata": {},
   "source": [
    "## Model Selection - Linear Regression"
   ]
  },
  {
   "cell_type": "code",
   "execution_count": 30,
   "metadata": {},
   "outputs": [
    {
     "data": {
      "text/html": [
       "<style>#sk-container-id-1 {color: black;background-color: white;}#sk-container-id-1 pre{padding: 0;}#sk-container-id-1 div.sk-toggleable {background-color: white;}#sk-container-id-1 label.sk-toggleable__label {cursor: pointer;display: block;width: 100%;margin-bottom: 0;padding: 0.3em;box-sizing: border-box;text-align: center;}#sk-container-id-1 label.sk-toggleable__label-arrow:before {content: \"▸\";float: left;margin-right: 0.25em;color: #696969;}#sk-container-id-1 label.sk-toggleable__label-arrow:hover:before {color: black;}#sk-container-id-1 div.sk-estimator:hover label.sk-toggleable__label-arrow:before {color: black;}#sk-container-id-1 div.sk-toggleable__content {max-height: 0;max-width: 0;overflow: hidden;text-align: left;background-color: #f0f8ff;}#sk-container-id-1 div.sk-toggleable__content pre {margin: 0.2em;color: black;border-radius: 0.25em;background-color: #f0f8ff;}#sk-container-id-1 input.sk-toggleable__control:checked~div.sk-toggleable__content {max-height: 200px;max-width: 100%;overflow: auto;}#sk-container-id-1 input.sk-toggleable__control:checked~label.sk-toggleable__label-arrow:before {content: \"▾\";}#sk-container-id-1 div.sk-estimator input.sk-toggleable__control:checked~label.sk-toggleable__label {background-color: #d4ebff;}#sk-container-id-1 div.sk-label input.sk-toggleable__control:checked~label.sk-toggleable__label {background-color: #d4ebff;}#sk-container-id-1 input.sk-hidden--visually {border: 0;clip: rect(1px 1px 1px 1px);clip: rect(1px, 1px, 1px, 1px);height: 1px;margin: -1px;overflow: hidden;padding: 0;position: absolute;width: 1px;}#sk-container-id-1 div.sk-estimator {font-family: monospace;background-color: #f0f8ff;border: 1px dotted black;border-radius: 0.25em;box-sizing: border-box;margin-bottom: 0.5em;}#sk-container-id-1 div.sk-estimator:hover {background-color: #d4ebff;}#sk-container-id-1 div.sk-parallel-item::after {content: \"\";width: 100%;border-bottom: 1px solid gray;flex-grow: 1;}#sk-container-id-1 div.sk-label:hover label.sk-toggleable__label {background-color: #d4ebff;}#sk-container-id-1 div.sk-serial::before {content: \"\";position: absolute;border-left: 1px solid gray;box-sizing: border-box;top: 0;bottom: 0;left: 50%;z-index: 0;}#sk-container-id-1 div.sk-serial {display: flex;flex-direction: column;align-items: center;background-color: white;padding-right: 0.2em;padding-left: 0.2em;position: relative;}#sk-container-id-1 div.sk-item {position: relative;z-index: 1;}#sk-container-id-1 div.sk-parallel {display: flex;align-items: stretch;justify-content: center;background-color: white;position: relative;}#sk-container-id-1 div.sk-item::before, #sk-container-id-1 div.sk-parallel-item::before {content: \"\";position: absolute;border-left: 1px solid gray;box-sizing: border-box;top: 0;bottom: 0;left: 50%;z-index: -1;}#sk-container-id-1 div.sk-parallel-item {display: flex;flex-direction: column;z-index: 1;position: relative;background-color: white;}#sk-container-id-1 div.sk-parallel-item:first-child::after {align-self: flex-end;width: 50%;}#sk-container-id-1 div.sk-parallel-item:last-child::after {align-self: flex-start;width: 50%;}#sk-container-id-1 div.sk-parallel-item:only-child::after {width: 0;}#sk-container-id-1 div.sk-dashed-wrapped {border: 1px dashed gray;margin: 0 0.4em 0.5em 0.4em;box-sizing: border-box;padding-bottom: 0.4em;background-color: white;}#sk-container-id-1 div.sk-label label {font-family: monospace;font-weight: bold;display: inline-block;line-height: 1.2em;}#sk-container-id-1 div.sk-label-container {text-align: center;}#sk-container-id-1 div.sk-container {/* jupyter's `normalize.less` sets `[hidden] { display: none; }` but bootstrap.min.css set `[hidden] { display: none !important; }` so we also need the `!important` here to be able to override the default hidden behavior on the sphinx rendered scikit-learn.org. See: https://github.com/scikit-learn/scikit-learn/issues/21755 */display: inline-block !important;position: relative;}#sk-container-id-1 div.sk-text-repr-fallback {display: none;}</style><div id=\"sk-container-id-1\" class=\"sk-top-container\"><div class=\"sk-text-repr-fallback\"><pre>LinearRegression()</pre><b>In a Jupyter environment, please rerun this cell to show the HTML representation or trust the notebook. <br />On GitHub, the HTML representation is unable to render, please try loading this page with nbviewer.org.</b></div><div class=\"sk-container\" hidden><div class=\"sk-item\"><div class=\"sk-estimator sk-toggleable\"><input class=\"sk-toggleable__control sk-hidden--visually\" id=\"sk-estimator-id-1\" type=\"checkbox\" checked><label for=\"sk-estimator-id-1\" class=\"sk-toggleable__label sk-toggleable__label-arrow\">LinearRegression</label><div class=\"sk-toggleable__content\"><pre>LinearRegression()</pre></div></div></div></div></div>"
      ],
      "text/plain": [
       "LinearRegression()"
      ]
     },
     "execution_count": 30,
     "metadata": {},
     "output_type": "execute_result"
    }
   ],
   "source": [
    "lr = LinearRegression()\n",
    "lr.fit(Xtrain, ytrain)"
   ]
  },
  {
   "cell_type": "code",
   "execution_count": 31,
   "metadata": {},
   "outputs": [
    {
     "data": {
      "text/plain": [
       "array([13365.02282821, 16708.27429705, 15982.73499294, 17740.46112705,\n",
       "        9469.47563607])"
      ]
     },
     "execution_count": 31,
     "metadata": {},
     "output_type": "execute_result"
    }
   ],
   "source": [
    "preds = lr.predict(Xtest)\n",
    "preds[0:5]"
   ]
  },
  {
   "cell_type": "code",
   "execution_count": 32,
   "metadata": {},
   "outputs": [
    {
     "data": {
      "text/plain": [
       "10151.97727789015"
      ]
     },
     "execution_count": 32,
     "metadata": {},
     "output_type": "execute_result"
    }
   ],
   "source": [
    "mean_squared_error(preds, ytest, squared=False)"
   ]
  },
  {
   "cell_type": "markdown",
   "metadata": {},
   "source": [
    "Pretty bad RMSE."
   ]
  },
  {
   "cell_type": "code",
   "execution_count": 33,
   "metadata": {},
   "outputs": [
    {
     "data": {
      "text/plain": [
       "0.2951118267226328"
      ]
     },
     "execution_count": 33,
     "metadata": {},
     "output_type": "execute_result"
    }
   ],
   "source": [
    "r2_score(ytest, preds)"
   ]
  },
  {
   "cell_type": "markdown",
   "metadata": {},
   "source": [
    "Pretty bad R^2."
   ]
  },
  {
   "cell_type": "markdown",
   "metadata": {},
   "source": [
    "## Model Selection - Decision Tree Regressor"
   ]
  },
  {
   "cell_type": "code",
   "execution_count": 34,
   "metadata": {},
   "outputs": [
    {
     "data": {
      "text/plain": [
       "0.7728492990583855"
      ]
     },
     "execution_count": 34,
     "metadata": {},
     "output_type": "execute_result"
    }
   ],
   "source": [
    "dtr = DecisionTreeRegressor()\n",
    "dtr.fit(Xtrain, ytrain)\n",
    "preds = dtr.predict(Xtest)\n",
    "r2_score(preds, ytest)"
   ]
  },
  {
   "cell_type": "markdown",
   "metadata": {},
   "source": [
    "Better R^2"
   ]
  },
  {
   "cell_type": "markdown",
   "metadata": {},
   "source": [
    "## Model Selection - Linear Regression"
   ]
  },
  {
   "cell_type": "code",
   "execution_count": 35,
   "metadata": {},
   "outputs": [
    {
     "data": {
      "text/plain": [
       "0.8723521121330078"
      ]
     },
     "execution_count": 35,
     "metadata": {},
     "output_type": "execute_result"
    }
   ],
   "source": [
    "etr = ExtraTreesRegressor()\n",
    "etr.fit(Xtrain, ytrain)\n",
    "preds = etr.predict(Xtest)\n",
    "r2_score(preds, ytest)"
   ]
  },
  {
   "cell_type": "markdown",
   "metadata": {},
   "source": [
    "Better R^2"
   ]
  }
 ],
 "metadata": {
  "kernelspec": {
   "display_name": "Python 3 (ipykernel)",
   "language": "python",
   "name": "python3"
  },
  "language_info": {
   "codemirror_mode": {
    "name": "ipython",
    "version": 3
   },
   "file_extension": ".py",
   "mimetype": "text/x-python",
   "name": "python",
   "nbconvert_exporter": "python",
   "pygments_lexer": "ipython3",
   "version": "3.10.0"
  },
  "vscode": {
   "interpreter": {
    "hash": "0ac9d7d9569519c45587c6ca06154ecfd944c11ec731d9e882c24e863a0b9dbf"
   }
  }
 },
 "nbformat": 4,
 "nbformat_minor": 4
}
